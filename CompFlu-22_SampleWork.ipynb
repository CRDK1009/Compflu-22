{
 "cells": [
  {
   "cell_type": "code",
   "execution_count": 8,
   "id": "dadbb302",
   "metadata": {},
   "outputs": [
    {
     "ename": "SyntaxError",
     "evalue": "invalid syntax (<ipython-input-8-ce48075e8c16>, line 1)",
     "output_type": "error",
     "traceback": [
      "\u001b[1;36m  File \u001b[1;32m\"<ipython-input-8-ce48075e8c16>\"\u001b[1;36m, line \u001b[1;32m1\u001b[0m\n\u001b[1;33m    jupyter notebook --generate-config\u001b[0m\n\u001b[1;37m            ^\u001b[0m\n\u001b[1;31mSyntaxError\u001b[0m\u001b[1;31m:\u001b[0m invalid syntax\n"
     ]
    }
   ],
   "source": [
    "jupyter notebook --generate-config"
   ]
  },
  {
   "cell_type": "code",
   "execution_count": 1,
   "id": "e03de72b",
   "metadata": {},
   "outputs": [],
   "source": [
    "from tensorflow.keras.models import load_model\n",
    "\n",
    "model1 = load_model('MLP_1')"
   ]
  },
  {
   "cell_type": "code",
   "execution_count": 2,
   "id": "9a049bb1",
   "metadata": {},
   "outputs": [],
   "source": [
    "from xgboost import XGBRegressor\n",
    "xgb=XGBRegressor(n_estimators=240, max_leaves=15, min_child_weight=0.022794441484877137, learning_rate=0.05392800105066943, subsample=1.0, colsample_bylevel=1.0, colsample_bytree=1.0, reg_alpha=0.0009765625, reg_lambda=0.18227602750012362)"
   ]
  },
  {
   "cell_type": "code",
   "execution_count": 3,
   "id": "2c226c9f",
   "metadata": {},
   "outputs": [],
   "source": [
    "from sklearn.ensemble import HistGradientBoostingRegressor\n",
    "hist_gbm_model = HistGradientBoostingRegressor(learning_rate=0.1,max_bins=100,max_iter=50,max_leaf_nodes=25,min_samples_leaf=100)"
   ]
  },
  {
   "cell_type": "code",
   "execution_count": 4,
   "id": "ea5949ad",
   "metadata": {},
   "outputs": [],
   "source": [
    "from sklearn.ensemble import ExtraTreesRegressor\n",
    "et=ExtraTreesRegressor(n_estimators=12, max_features=0.7641570582122252, max_leaf_nodes=880)"
   ]
  },
  {
   "cell_type": "code",
   "execution_count": 5,
   "id": "40827475",
   "metadata": {},
   "outputs": [],
   "source": [
    "from lightgbm import LGBMRegressor\n",
    "# define model\n",
    "lgbm_model = LGBMRegressor(n_estimators=2972, num_leaves=12, min_child_samples=54, learning_rate=0.011884037674160988,colsample_bytree=0.887982988974659,reg_alpha=0.24281363297657405, reg_lambda=0.3884086829920825)"
   ]
  },
  {
   "cell_type": "code",
   "execution_count": 11,
   "id": "fc4d57d8",
   "metadata": {},
   "outputs": [],
   "source": [
    "from sklearn.ensemble import RandomForestRegressor\n",
    "rf=RandomForestRegressor(n_estimators=158, max_features=1.0, max_leaf_nodes=1369)"
   ]
  },
  {
   "cell_type": "code",
   "execution_count": 7,
   "id": "aca4593c",
   "metadata": {},
   "outputs": [],
   "source": [
    "from sklearn.ensemble import ExtraTreesRegressor\n",
    "et=ExtraTreesRegressor(n_estimators=12, max_features=0.7641570582122252, max_leaf_nodes=880)"
   ]
  },
  {
   "cell_type": "markdown",
   "id": "954f0140-46bf-44b3-af55-f817c92dd2a4",
   "metadata": {},
   "source": [
    "Sample Dashboard\n"
   ]
  },
  {
   "cell_type": "code",
   "execution_count": 2,
   "id": "fdf63641",
   "metadata": {},
   "outputs": [],
   "source": [
    "import pandas  as pd"
   ]
  },
  {
   "cell_type": "code",
   "execution_count": null,
   "id": "b265d61b",
   "metadata": {},
   "outputs": [],
   "source": [
    "df=pd.read_csv('320k.csv')\n",
    "df.head()"
   ]
  },
  {
   "cell_type": "code",
   "execution_count": 9,
   "id": "bdaecb2a",
   "metadata": {
    "scrolled": true,
    "tags": []
   },
   "outputs": [
    {
     "data": {
      "image/png": "[encoded data removed]",
      "text/plain": [
       "<Figure size 432x288 with 2 Axes>"
      ]
     },
     "metadata": {},
     "output_type": "display_data"
    }
   ],
   "source": [
    "import seaborn as sns; sns.set_theme()\n",
    "ax = sns.heatmap(df[['D ', 'Phi','u','c']].corr('spearman'), annot=True)"
   ]
  },
  {
   "cell_type": "code",
   "execution_count": 21,
   "id": "48deb0ba",
   "metadata": {},
   "outputs": [
    {
     "data": {
      "text/plain": [
       "RandomForestRegressor(max_features=1.0, max_leaf_nodes=1369, n_estimators=158)"
      ]
     },
     "execution_count": 21,
     "metadata": {},
     "output_type": "execute_result"
    }
   ],
   "source": [
    "rf.fit(df[['D ', 'Phi','u']],df['c'])"
   ]
  },
  {
   "cell_type": "code",
   "execution_count": 22,
   "id": "4d8d3aa8",
   "metadata": {},
   "outputs": [],
   "source": [
    "import matplotlib.pyplot as plt"
   ]
  },
  {
   "cell_type": "code",
   "execution_count": 24,
   "id": "eebbd8e5",
   "metadata": {},
   "outputs": [
    {
     "data": {
      "image/png": "[encoded data removed]",
      "text/plain": [
       "<Figure size 432x288 with 1 Axes>"
      ]
     },
     "metadata": {},
     "output_type": "display_data"
    },
    {
     "data": {
      "text/plain": [
       "array([0.10464482, 0.01005825, 0.88529693])"
      ]
     },
     "execution_count": 24,
     "metadata": {},
     "output_type": "execute_result"
    }
   ],
   "source": [
    "import matplotlib.pyplot as plt\n",
    "import seaborn as sns\n",
    "import warnings\n",
    "warnings.simplefilter(action='ignore', category=FutureWarning)\n",
    "\n",
    "# sorted(zip(clf.feature_importances_, X.columns), reverse=True)\n",
    "feature_imp = pd.DataFrame(sorted(zip(rf.feature_importances_,df[['D ', 'Phi','u']].columns)), columns=['Value','Feature'])\n",
    "plt.style.use('ggplot')\n",
    "#plt.figure(figsize=(20, 10))\n",
    "sns.barplot(x=\"Value\", y=\"Feature\", data=feature_imp.sort_values(by=\"Value\", ascending=False))\n",
    "plt.title('Random Forest')\n",
    "plt.tight_layout()\n",
    "plt.show()\n",
    "rf.feature_importances_"
   ]
  },
  {
   "cell_type": "code",
   "execution_count": 30,
   "id": "b56ea3c9",
   "metadata": {},
   "outputs": [],
   "source": [
    "X=df[['D ', 'Phi','x ','t','u']]\n",
    "y=df['c']"
   ]
  },
  {
   "cell_type": "code",
   "execution_count": 31,
   "id": "36bbe53b",
   "metadata": {},
   "outputs": [],
   "source": [
    "from sklearn.utils import shuffle\n",
    "X,y = shuffle(X,y, random_state=0)"
   ]
  },
  {
   "cell_type": "code",
   "execution_count": 32,
   "id": "42f8360d",
   "metadata": {},
   "outputs": [],
   "source": [
    "from sklearn.model_selection import train_test_split\n",
    "X_train, X_test, y_train, y_test = train_test_split(X, y, test_size=0.3, random_state=42)"
   ]
  },
  {
   "cell_type": "code",
   "execution_count": null,
   "id": "7c919cdc",
   "metadata": {},
   "outputs": [],
   "source": [
    "train=pd.DataFrame(X_train,columns=['D ','Phi','x ','t','u'])\n",
    "train.head()"
   ]
  },
  {
   "cell_type": "code",
   "execution_count": null,
   "id": "74304d27",
   "metadata": {},
   "outputs": [],
   "source": [
    "test=pd.DataFrame(X_test,columns=['D ','Phi','x ','t','u'])\n",
    "test.head()"
   ]
  },
  {
   "cell_type": "code",
   "execution_count": 35,
   "id": "7729fb57",
   "metadata": {},
   "outputs": [],
   "source": [
    "test=test.join(y_test)"
   ]
  },
  {
   "cell_type": "code",
   "execution_count": null,
   "id": "df8b65ed",
   "metadata": {
    "scrolled": true
   },
   "outputs": [],
   "source": [
    "test_10000=test[(test.t == 10000) & (test['D '] == 0.05) & (test['Phi'] == 0.25)]\n",
    "test_10000"
   ]
  },
  {
   "cell_type": "code",
   "execution_count": 39,
   "id": "6e41c69a",
   "metadata": {},
   "outputs": [
    {
     "data": {
      "text/plain": [
       "(304, 6)"
      ]
     },
     "execution_count": 39,
     "metadata": {},
     "output_type": "execute_result"
    }
   ],
   "source": [
    "test_17500=test[(test['t'] == 17500) & (test['D '] == 0.05) & (test['Phi'] == 0.25)]\n",
    "test_17500.shape"
   ]
  },
  {
   "cell_type": "code",
   "execution_count": 40,
   "id": "9885aa71",
   "metadata": {
    "scrolled": true
   },
   "outputs": [],
   "source": [
    "test_43750=test[(test.t == 43750) & (test['D '] == 0.05) & (test['Phi'] == 0.25)]"
   ]
  },
  {
   "cell_type": "code",
   "execution_count": 41,
   "id": "2527aa7a",
   "metadata": {},
   "outputs": [
    {
     "data": {
      "text/plain": [
       "(306, 6)"
      ]
     },
     "execution_count": 41,
     "metadata": {},
     "output_type": "execute_result"
    }
   ],
   "source": [
    "test_62500=test[(test.t == 62500) & (test['D '] == 0.05) & (test['Phi'] == 0.25)]\n",
    "test_62500.shape"
   ]
  },
  {
   "cell_type": "code",
   "execution_count": 42,
   "id": "fb8af784",
   "metadata": {},
   "outputs": [
    {
     "data": {
      "text/plain": [
       "(320, 6)"
      ]
     },
     "execution_count": 42,
     "metadata": {},
     "output_type": "execute_result"
    }
   ],
   "source": [
    "test_87500=test[(test.t == 87500) & (test['D '] == 0.05) & (test['Phi'] == 0.25)]\n",
    "test_87500.shape"
   ]
  },
  {
   "cell_type": "code",
   "execution_count": 43,
   "id": "11686e5b",
   "metadata": {},
   "outputs": [
    {
     "data": {
      "text/plain": [
       "(304, 6)"
      ]
     },
     "execution_count": 43,
     "metadata": {},
     "output_type": "execute_result"
    }
   ],
   "source": [
    "test_90000=test[(test.t == 90000) & (test['D '] == 0.05) & (test['Phi'] == 0.25)]\n",
    "test_90000.shape"
   ]
  },
  {
   "cell_type": "code",
   "execution_count": null,
   "id": "04d345ee",
   "metadata": {},
   "outputs": [],
   "source": [
    "stack_test_10000=pd.DataFrame(stack_test,columns=['LGBM','hist','et','rf','xgb','boost','bag'])\n",
    "stack_test_10000"
   ]
  },
  {
   "cell_type": "code",
   "execution_count": 32,
   "id": "86f281ae",
   "metadata": {},
   "outputs": [],
   "source": [
    "pred_10000=model1.predict(stack_test_10000)"
   ]
  },
  {
   "cell_type": "code",
   "execution_count": 35,
   "id": "74b6d87f",
   "metadata": {},
   "outputs": [
    {
     "data": {
      "text/plain": [
       "0.9254270883303647"
      ]
     },
     "execution_count": 35,
     "metadata": {},
     "output_type": "execute_result"
    }
   ],
   "source": [
    "from sklearn.metrics import r2_score\n",
    "r2_score(test_10000['c'], pred_10000)"
   ]
  },
  {
   "cell_type": "code",
   "execution_count": 36,
   "id": "e982ee79",
   "metadata": {},
   "outputs": [],
   "source": [
    "import numpy as np\n",
    "mlp_scaled=np.array(pred_10000).ravel()"
   ]
  },
  {
   "cell_type": "code",
   "execution_count": 37,
   "id": "1e8cd14d",
   "metadata": {},
   "outputs": [
    {
     "data": {
      "text/plain": [
       "11.101264748950701"
      ]
     },
     "execution_count": 37,
     "metadata": {},
     "output_type": "execute_result"
    }
   ],
   "source": [
    "a=abs((mlp_scaled-test_10000['c'])/test_10000['c'])\n",
    "#b=a/(40)\n",
    "c=sum(a)\n",
    "(c*100)/len(test_10000['c'])"
   ]
  },
  {
   "cell_type": "code",
   "execution_count": 91,
   "id": "2b81ff48",
   "metadata": {},
   "outputs": [
    {
     "data": {
      "image/png": "[encoded data removed]",
      "text/plain": [
       "<Figure size 432x288 with 1 Axes>"
      ]
     },
     "metadata": {},
     "output_type": "display_data"
    }
   ],
   "source": [
    "import matplotlib.pyplot as plot\n",
    "from matplotlib.pyplot import figure\n",
    "from matplotlib.pyplot import ylim\n",
    "plot.ylim(0, 42)\n",
    "#figure(figsize=(100,100), dpi=80) \n",
    "plot.style.use('ggplot')\n",
    "plot.scatter(test_10000['x '], pred_10000, color = 'blue',label='Predicted')\n",
    "plot.scatter(test_10000['x '], test_10000['c'], color = 'black',label='Analytical')\n",
    "plot.legend(loc='best')\n",
    "plot.title('test_10000_D-0.05_Phi-0.25')\n",
    "plot.xlabel('Nodes')\n",
    "plot.ylabel('Concentration')\n",
    "plot.show()"
   ]
  },
  {
   "cell_type": "code",
   "execution_count": null,
   "id": "07d7843e",
   "metadata": {},
   "outputs": [],
   "source": [
    "stack_test_17500=pd.DataFrame(stack_test_17500,columns=['LGBM','hist','et','rf','xgb','boost','bag'])\n",
    "stack_test_17500"
   ]
  },
  {
   "cell_type": "code",
   "execution_count": 41,
   "id": "44a03cec",
   "metadata": {},
   "outputs": [],
   "source": [
    "pred_17500=model1.predict(stack_test_17500)"
   ]
  },
  {
   "cell_type": "code",
   "execution_count": 42,
   "id": "78a4b18a",
   "metadata": {},
   "outputs": [
    {
     "data": {
      "text/plain": [
       "0.9229606053275549"
      ]
     },
     "execution_count": 42,
     "metadata": {},
     "output_type": "execute_result"
    }
   ],
   "source": [
    "from sklearn.metrics import r2_score\n",
    "r2_score(test_17500['c'], pred_17500)"
   ]
  },
  {
   "cell_type": "code",
   "execution_count": 43,
   "id": "fefa42be",
   "metadata": {},
   "outputs": [],
   "source": [
    "import numpy as np\n",
    "mlp_17500=np.array(pred_17500).ravel()"
   ]
  },
  {
   "cell_type": "code",
   "execution_count": 44,
   "id": "70e9bff0",
   "metadata": {},
   "outputs": [
    {
     "data": {
      "text/plain": [
       "8.034336079019154"
      ]
     },
     "execution_count": 44,
     "metadata": {},
     "output_type": "execute_result"
    }
   ],
   "source": [
    "a=abs((mlp_17500-test_17500['c'])/test_17500['c'])\n",
    "#b=a/(40)\n",
    "c=sum(a)\n",
    "(c*100)/len(test_17500['c'])"
   ]
  },
  {
   "cell_type": "code",
   "execution_count": 92,
   "id": "eccdf353",
   "metadata": {},
   "outputs": [
    {
     "data": {
      "image/png": "[encoded data removed]",
      "text/plain": [
       "<Figure size 432x288 with 1 Axes>"
      ]
     },
     "metadata": {},
     "output_type": "display_data"
    }
   ],
   "source": [
    "import matplotlib.pyplot as plot\n",
    "from matplotlib.pyplot import figure\n",
    "from matplotlib.pyplot import ylim\n",
    "plot.ylim(0, 42)\n",
    "#figure(figsize=(100,100), dpi=80) \n",
    "plot.style.use('ggplot')\n",
    "plot.scatter(test_17500['x '], pred_17500, color = 'blue',label='Predicted')\n",
    "plot.scatter(test_17500['x '], test_17500['c'], color = 'black',label='Analytical')\n",
    "plot.legend(loc='best')\n",
    "plot.title('test_17500_D-0.05_Phi-0.25')\n",
    "plot.xlabel('Nodes')\n",
    "plot.ylabel('Concentration')\n",
    "plot.show()"
   ]
  },
  {
   "cell_type": "code",
   "execution_count": null,
   "id": "2572593e",
   "metadata": {},
   "outputs": [],
   "source": [
    "stack_test_43750=pd.DataFrame(stack_test,columns=['LGBM','hist','et','rf','xgb','boost','bag'])\n",
    "stack_test_43750"
   ]
  },
  {
   "cell_type": "code",
   "execution_count": 49,
   "id": "36fe4fca",
   "metadata": {},
   "outputs": [],
   "source": [
    "pred_43750=model1.predict(stack_test_43750)"
   ]
  },
  {
   "cell_type": "code",
   "execution_count": 50,
   "id": "e44548ec",
   "metadata": {},
   "outputs": [
    {
     "data": {
      "text/plain": [
       "0.9340523392382194"
      ]
     },
     "execution_count": 50,
     "metadata": {},
     "output_type": "execute_result"
    }
   ],
   "source": [
    "from sklearn.metrics import r2_score\n",
    "r2_score(test_43750['c'], pred_43750)"
   ]
  },
  {
   "cell_type": "code",
   "execution_count": 51,
   "id": "6a9b08ac",
   "metadata": {},
   "outputs": [],
   "source": [
    "import numpy as np\n",
    "mlp_43750=np.array(pred_43750).ravel()"
   ]
  },
  {
   "cell_type": "code",
   "execution_count": 52,
   "id": "8082b9a8",
   "metadata": {},
   "outputs": [
    {
     "data": {
      "text/plain": [
       "4.8601071352799465"
      ]
     },
     "execution_count": 52,
     "metadata": {},
     "output_type": "execute_result"
    }
   ],
   "source": [
    "a=abs((mlp_43750-test_43750['c'])/test_43750['c'])\n",
    "#b=a/(40)\n",
    "c=sum(a)\n",
    "(c*100)/len(test_43750['c'])"
   ]
  },
  {
   "cell_type": "code",
   "execution_count": 93,
   "id": "7f308736",
   "metadata": {},
   "outputs": [
    {
     "data": {
      "image/png": "[encoded data removed]",
      "text/plain": [
       "<Figure size 432x288 with 1 Axes>"
      ]
     },
     "metadata": {},
     "output_type": "display_data"
    }
   ],
   "source": [
    "import matplotlib.pyplot as plot\n",
    "from matplotlib.pyplot import figure\n",
    "from matplotlib.pyplot import ylim\n",
    "plot.ylim(0, 42)\n",
    "#figure(figsize=(100,100), dpi=80) \n",
    "plot.style.use('ggplot')\n",
    "plot.scatter(test_43750['x '], pred_43750, color = 'blue',label='Predicted')\n",
    "plot.scatter(test_43750['x '], test_43750['c'], color = 'black',label='Analytical')\n",
    "plot.legend(loc='best')\n",
    "plot.title('test_43750_D-0.05_Phi-0.25')\n",
    "plot.xlabel('Nodes')\n",
    "plot.ylabel('Concentration')\n",
    "plot.show()"
   ]
  },
  {
   "cell_type": "code",
   "execution_count": null,
   "id": "46e6061d",
   "metadata": {},
   "outputs": [],
   "source": [
    "stack_test_62500=pd.DataFrame(stack_test,columns=['LGBM','hist','et','rf','xgb','boost','bag'])\n",
    "stack_test_62500"
   ]
  },
  {
   "cell_type": "code",
   "execution_count": 58,
   "id": "da030c13",
   "metadata": {},
   "outputs": [],
   "source": [
    "pred_62500=model1.predict(stack_test_62500)"
   ]
  },
  {
   "cell_type": "code",
   "execution_count": 61,
   "id": "8eb320d2",
   "metadata": {},
   "outputs": [
    {
     "data": {
      "text/plain": [
       "0.9688367015098176"
      ]
     },
     "execution_count": 61,
     "metadata": {},
     "output_type": "execute_result"
    }
   ],
   "source": [
    "from sklearn.metrics import r2_score\n",
    "r2_score(test_62500['c'], pred_62500)"
   ]
  },
  {
   "cell_type": "code",
   "execution_count": 62,
   "id": "8dd139c1",
   "metadata": {},
   "outputs": [],
   "source": [
    "import numpy as np\n",
    "mlp_62500=np.array(pred_62500).ravel()"
   ]
  },
  {
   "cell_type": "code",
   "execution_count": 63,
   "id": "e9ae181d",
   "metadata": {},
   "outputs": [
    {
     "data": {
      "text/plain": [
       "2.577661613021086"
      ]
     },
     "execution_count": 63,
     "metadata": {},
     "output_type": "execute_result"
    }
   ],
   "source": [
    "a=abs((mlp_62500-test_62500['c'])/test_62500['c'])\n",
    "#b=a/(40)\n",
    "c=sum(a)\n",
    "(c*100)/len(test_62500['c'])"
   ]
  },
  {
   "cell_type": "code",
   "execution_count": 94,
   "id": "123e953e",
   "metadata": {},
   "outputs": [
    {
     "data": {
      "image/png": "[encoded data removed]",
      "text/plain": [
       "<Figure size 432x288 with 1 Axes>"
      ]
     },
     "metadata": {},
     "output_type": "display_data"
    }
   ],
   "source": [
    "import matplotlib.pyplot as plot\n",
    "from matplotlib.pyplot import figure\n",
    "from matplotlib.pyplot import ylim\n",
    "plot.ylim(0, 42)\n",
    "#figure(figsize=(100,100), dpi=80) \n",
    "plot.style.use('ggplot')\n",
    "plot.scatter(test_62500['x '], pred_62500, color = 'blue',label='Predicted')\n",
    "plot.scatter(test_62500['x '], test_62500['c'], color = 'black',label='Analytical')\n",
    "plot.legend(loc='best')\n",
    "plot.title('test_62500_D-0.05_Phi-0.25')\n",
    "plot.xlabel('Nodes')\n",
    "plot.ylabel('Concentration')\n",
    "plot.show()"
   ]
  },
  {
   "cell_type": "code",
   "execution_count": null,
   "id": "bcbc7fb8",
   "metadata": {},
   "outputs": [],
   "source": [
    "stack_test_87500=pd.DataFrame(stack_test,columns=['LGBM','hist','et','rf','xgb','boost','bag'])\n",
    "stack_test_87500"
   ]
  },
  {
   "cell_type": "code",
   "execution_count": 67,
   "id": "4fd28859",
   "metadata": {},
   "outputs": [],
   "source": [
    "pred_87500=model1.predict(stack_test_87500)"
   ]
  },
  {
   "cell_type": "code",
   "execution_count": 68,
   "id": "c9a510f5",
   "metadata": {},
   "outputs": [
    {
     "data": {
      "text/plain": [
       "0.9929379295909223"
      ]
     },
     "execution_count": 68,
     "metadata": {},
     "output_type": "execute_result"
    }
   ],
   "source": [
    "from sklearn.metrics import r2_score\n",
    "r2_score(test_87500['c'], pred_87500)"
   ]
  },
  {
   "cell_type": "code",
   "execution_count": 69,
   "id": "2440b11d",
   "metadata": {},
   "outputs": [],
   "source": [
    "import numpy as np\n",
    "mlp_87500=np.array(pred_87500).ravel()"
   ]
  },
  {
   "cell_type": "code",
   "execution_count": 70,
   "id": "ca4275de",
   "metadata": {},
   "outputs": [
    {
     "data": {
      "text/plain": [
       "0.789840439932814"
      ]
     },
     "execution_count": 70,
     "metadata": {},
     "output_type": "execute_result"
    }
   ],
   "source": [
    "a=abs((mlp_87500-test_87500['c'])/test_87500['c'])\n",
    "#b=a/(40)\n",
    "c=sum(a)\n",
    "(c*100)/len(test_87500['c'])"
   ]
  },
  {
   "cell_type": "code",
   "execution_count": 95,
   "id": "30a0676e",
   "metadata": {},
   "outputs": [
    {
     "data": {
      "image/png": "[encoded data removed]",
      "text/plain": [
       "<Figure size 432x288 with 1 Axes>"
      ]
     },
     "metadata": {},
     "output_type": "display_data"
    }
   ],
   "source": [
    "import matplotlib.pyplot as plot\n",
    "from matplotlib.pyplot import figure\n",
    "from matplotlib.pyplot import ylim\n",
    "plot.ylim(0, 42)\n",
    "#figure(figsize=(100,100), dpi=80) \n",
    "plot.style.use('ggplot')\n",
    "plot.scatter(test_87500['x '], pred_87500, color = 'blue',label='Predicted')\n",
    "plot.scatter(test_87500['x '], test_87500['c'], color = 'black',label='Analyical')\n",
    "plot.legend(loc='best')\n",
    "plot.title('test_87500_D-0.05_Phi-0.25')\n",
    "plot.xlabel('Nodes')\n",
    "plot.ylabel('Concentration')\n",
    "plot.show()"
   ]
  },
  {
   "cell_type": "code",
   "execution_count": null,
   "id": "ca3efdf7",
   "metadata": {},
   "outputs": [],
   "source": [
    "stack_test_90000=pd.DataFrame(stack_test,columns=['LGBM','hist','et','rf','xgb','boost','bag'])\n",
    "stack_test_90000"
   ]
  },
  {
   "cell_type": "code",
   "execution_count": 81,
   "id": "e462ff28",
   "metadata": {},
   "outputs": [],
   "source": [
    "pred_90000=model1.predict(stack_test_90000)"
   ]
  },
  {
   "cell_type": "code",
   "execution_count": 82,
   "id": "70c4b13e",
   "metadata": {},
   "outputs": [
    {
     "data": {
      "text/plain": [
       "0.994077084748552"
      ]
     },
     "execution_count": 82,
     "metadata": {},
     "output_type": "execute_result"
    }
   ],
   "source": [
    "from sklearn.metrics import r2_score\n",
    "r2_score(test_90000['c'], pred_90000)"
   ]
  },
  {
   "cell_type": "code",
   "execution_count": 83,
   "id": "b7a932f6",
   "metadata": {},
   "outputs": [],
   "source": [
    "import numpy as np\n",
    "mlp_90000=np.array(pred_90000).ravel()"
   ]
  },
  {
   "cell_type": "code",
   "execution_count": 84,
   "id": "b4e629b4",
   "metadata": {},
   "outputs": [
    {
     "data": {
      "text/plain": [
       "0.7577968194361805"
      ]
     },
     "execution_count": 84,
     "metadata": {},
     "output_type": "execute_result"
    }
   ],
   "source": [
    "a=abs((mlp_90000-test_90000['c'])/test_90000['c'])\n",
    "#b=a/(40)\n",
    "c=sum(a)\n",
    "(c*100)/len(test_90000['c'])"
   ]
  },
  {
   "cell_type": "code",
   "execution_count": 85,
   "id": "d8190a22",
   "metadata": {},
   "outputs": [
    {
     "data": {
      "image/png": "[encoded data removed]",
      "text/plain": [
       "<Figure size 432x288 with 1 Axes>"
      ]
     },
     "metadata": {},
     "output_type": "display_data"
    }
   ],
   "source": [
    "import matplotlib.pyplot as plot\n",
    "from matplotlib.pyplot import figure\n",
    "from matplotlib.pyplot import ylim\n",
    "plot.ylim(-2, 42)\n",
    "#figure(figsize=(100,100), dpi=80) \n",
    "plot.style.use('ggplot')\n",
    "plot.scatter(test_90000['x '], pred_90000, color = 'blue')\n",
    "plot.scatter(test_90000['x '], test_90000['c'], color = 'black')\n",
    "plot.title('test_90000_D-0.001_Phi-0.1')\n",
    "plot.xlabel('Nodes')\n",
    "plot.ylabel('Concentration')\n",
    "plot.show()"
   ]
  }
 ],
 "metadata": {
  "kernelspec": {
   "display_name": "Python 3 (ipykernel)",
   "language": "python",
   "name": "python3"
  },
  "language_info": {
   "codemirror_mode": {
    "name": "ipython",
    "version": 3
   },
   "file_extension": ".py",
   "mimetype": "text/x-python",
   "name": "python",
   "nbconvert_exporter": "python",
   "pygments_lexer": "ipython3",
   "version": "3.8.10"
  }
 },
 "nbformat": 4,
 "nbformat_minor": 5
}
